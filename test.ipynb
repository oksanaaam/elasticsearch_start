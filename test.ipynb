{
 "cells": [
  {
   "cell_type": "code",
   "execution_count": 1,
   "metadata": {
    "collapsed": true
   },
   "outputs": [
    {
     "name": "stdout",
     "output_type": "stream",
     "text": [
      "Requirement already satisfied: elasticsearch in c:\\users\\user\\projects\\reply\\elasticsearch_start\\venv\\lib\\site-packages (7.17.9)\n",
      "Requirement already satisfied: elasticsearch-dsl in c:\\users\\user\\projects\\reply\\elasticsearch_start\\venv\\lib\\site-packages (7.4.1)\n",
      "Requirement already satisfied: urllib3<2,>=1.21.1 in c:\\users\\user\\projects\\reply\\elasticsearch_start\\venv\\lib\\site-packages (from elasticsearch) (1.26.16)\n",
      "Requirement already satisfied: certifi in c:\\users\\user\\projects\\reply\\elasticsearch_start\\venv\\lib\\site-packages (from elasticsearch) (2023.7.22)\n",
      "Requirement already satisfied: six in c:\\users\\user\\projects\\reply\\elasticsearch_start\\venv\\lib\\site-packages (from elasticsearch-dsl) (1.16.0)\n",
      "Requirement already satisfied: python-dateutil in c:\\users\\user\\projects\\reply\\elasticsearch_start\\venv\\lib\\site-packages (from elasticsearch-dsl) (2.8.2)\n"
     ]
    },
    {
     "name": "stderr",
     "output_type": "stream",
     "text": [
      "\n",
      "[notice] A new release of pip is available: 23.0.1 -> 23.2.1\n",
      "[notice] To update, run: python.exe -m pip install --upgrade pip\n"
     ]
    }
   ],
   "source": [
    "!pip install elasticsearch elasticsearch-dsl"
   ]
  },
  {
   "cell_type": "code",
   "execution_count": 17,
   "outputs": [
    {
     "name": "stdout",
     "output_type": "stream",
     "text": [
      "The connection to Elasticsearch is established.\n"
     ]
    }
   ],
   "source": [
    "from elasticsearch import Elasticsearch\n",
    "\n",
    "es = Elasticsearch([{'host': 'localhost', 'port': 9200}])\n",
    "\n",
    "if es.ping():\n",
    "    print(\"The connection to Elasticsearch is established.\")\n",
    "else:\n",
    "    print(\"Could not connect to Elasticsearch.\")\n"
   ],
   "metadata": {
    "collapsed": false
   }
  },
  {
   "cell_type": "code",
   "execution_count": 13,
   "outputs": [],
   "source": [
    "import csv\n",
    "\n",
    "airports_data = []\n",
    "\n",
    "with open('airports.dat', 'r', encoding='utf-8') as file:\n",
    "    csv_reader = csv.reader(file)\n",
    "    for row in csv_reader:\n",
    "        airports_data.append(row)\n"
   ],
   "metadata": {
    "collapsed": false
   }
  },
  {
   "cell_type": "code",
   "execution_count": 15,
   "outputs": [
    {
     "name": "stderr",
     "output_type": "stream",
     "text": [
      "C:\\Users\\User\\projects\\reply\\elasticsearch_start\\venv\\Lib\\site-packages\\elasticsearch\\connection\\base.py:200: ElasticsearchWarning: Elasticsearch built-in security features are not enabled. Without authentication, your cluster could be accessible to anyone. See https://www.elastic.co/guide/en/elasticsearch/reference/7.14/security-minimal-setup.html to enable security.\n",
      "  warnings.warn(message, category=ElasticsearchWarning)\n"
     ]
    }
   ],
   "source": [
    "def insert_data_into_elasticsearch(data):\n",
    "    for airport in data:\n",
    "        airport_doc = {\n",
    "            \"Airport ID\": airport[0],\n",
    "            \"Name\": airport[1],\n",
    "            \"City\": airport[2],\n",
    "            \"Country\": airport[3],\n",
    "            \"IATA\": airport[4],\n",
    "            \"ICAO\": airport[5],\n",
    "            \"Latitude\": airport[6],\n",
    "            \"Longitude\": airport[7],\n",
    "            \"Altitude\": airport[8],\n",
    "            \"Timezone\": airport[9],\n",
    "            \"DST\": airport[10],\n",
    "            \"Tz database time zone\": airport[11],\n",
    "            \"Type\": airport[12],\n",
    "            \"Source\": airport[13]\n",
    "        }\n",
    "        es.index(index='airports_index', doc_type='_doc', document=airport_doc)\n",
    "\n",
    "    es.indices.refresh(index='airports_index')\n",
    "\n",
    "insert_data_into_elasticsearch(airports_data)\n"
   ],
   "metadata": {
    "collapsed": false
   }
  },
  {
   "cell_type": "code",
   "execution_count": 18,
   "outputs": [
    {
     "name": "stdout",
     "output_type": "stream",
     "text": [
      "<Hit(airports_index/4COJ2YkBLMTb2D_Riheh): {'Airport ID': '21', 'Name': 'Sault Ste Marie Airport', 'Cit...}>\n",
      "<Hit(airports_index/UCOK2YkBLMTb2D_Rhhse): {'Airport ID': '920', 'Name': 'Sainte Marie Airport', 'City'...}>\n",
      "<Hit(airports_index/diOM2YkBLMTb2D_RtSMD): {'Airport ID': '3152', 'Name': 'Tiruchirapally Civil Airport...}>\n",
      "<Hit(airports_index/zCOJ2YkBLMTb2D_ReRei): {'Airport ID': '1', 'Name': 'Goroka Airport', 'City': 'Gorok...}>\n",
      "<Hit(airports_index/zSOJ2YkBLMTb2D_RhRe0): {'Airport ID': '2', 'Name': 'Madang Airport', 'City': 'Madan...}>\n",
      "<Hit(airports_index/zyOJ2YkBLMTb2D_RhhdK): {'Airport ID': '4', 'Name': 'Nadzab Airport', 'City': 'Nadza...}>\n",
      "<Hit(airports_index/0iOJ2YkBLMTb2D_Rhxcl): {'Airport ID': '7', 'Name': 'Narsarsuaq Airport', 'City': 'N...}>\n",
      "<Hit(airports_index/1COJ2YkBLMTb2D_Rhxed): {'Airport ID': '9', 'Name': 'Kangerlussuaq Airport', 'City':...}>\n",
      "<Hit(airports_index/1iOJ2YkBLMTb2D_RiBcp): {'Airport ID': '11', 'Name': 'Akureyri Airport', 'City': 'Ak...}>\n",
      "<Hit(airports_index/1yOJ2YkBLMTb2D_RiBdw): {'Airport ID': '12', 'Name': 'Egilsstaðir Airport', 'City': ...}>\n"
     ]
    }
   ],
   "source": [
    "from elasticsearch_dsl import Search\n",
    "\n",
    "search = Search(using=es, index='airports_index')\n",
    "\n",
    "search = search.query('match', Name='Sault Ste Marie Airport')\n",
    "\n",
    "response = search.execute()\n",
    "for hit in response:\n",
    "    print(hit.Name)\n"
   ],
   "metadata": {
    "collapsed": false
   }
  },
  {
   "cell_type": "code",
   "execution_count": null,
   "outputs": [],
   "source": [],
   "metadata": {
    "collapsed": false
   }
  }
 ],
 "metadata": {
  "kernelspec": {
   "display_name": "Python 3",
   "language": "python",
   "name": "python3"
  },
  "language_info": {
   "codemirror_mode": {
    "name": "ipython",
    "version": 2
   },
   "file_extension": ".py",
   "mimetype": "text/x-python",
   "name": "python",
   "nbconvert_exporter": "python",
   "pygments_lexer": "ipython2",
   "version": "2.7.6"
  }
 },
 "nbformat": 4,
 "nbformat_minor": 0
}
